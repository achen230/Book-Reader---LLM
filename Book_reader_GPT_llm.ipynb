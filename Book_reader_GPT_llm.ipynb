{
  "nbformat": 4,
  "nbformat_minor": 0,
  "metadata": {
    "colab": {
      "provenance": []
    },
    "kernelspec": {
      "name": "python3",
      "display_name": "Python 3"
    },
    "language_info": {
      "name": "python"
    }
  },
  "cells": [
    {
      "cell_type": "code",
      "source": [
        "from langchain import OpenAI\n",
        "from langchain import PromptTemplate\n",
        "\n",
        "# Loaders\n",
        "from langchain.schema import Document\n",
        "\n",
        "# Splitters\n",
        "from langchain.text_splitter import RecursiveCharacterTextSplitter\n",
        "\n",
        "# Model\n",
        "from langchain.chat_models import ChatOpenAI\n",
        "\n",
        "# Embedding Support\n",
        "from langchain.vectorstores import FAISS\n",
        "from langchain.embeddings import OpenAIEmbeddings\n",
        "\n",
        "# Summarizer we'll use for Map Reduce\n",
        "from langchain.chains.summarize import load_summarize_chain\n",
        "\n",
        "# Data Science\n",
        "import numpy as np\n",
        "from sklearn.cluster import KMeans\n",
        "\n",
        "from langchain.document_loaders import PyPDFLoader"
      ],
      "metadata": {
        "id": "ibJZIAnqlXEm"
      },
      "execution_count": null,
      "outputs": []
    },
    {
      "cell_type": "code",
      "source": [
        "llm = OpenAI(temperature=0, openai_api_key='*****************************')"
      ],
      "metadata": {
        "id": "LqSlbJJPjqzt"
      },
      "execution_count": null,
      "outputs": []
    },
    {
      "cell_type": "code",
      "execution_count": null,
      "metadata": {
        "id": "PZ3uMO5pjm4B"
      },
      "outputs": [],
      "source": [
        "# Load the book\n",
        "loader = PyPDFLoader(\"Eliyahu M. Goldratt, Jeff Cox - The Goal_ A Process of Ongoing Improvement-North River Press (2004).pdf\")\n",
        "pages = loader.load()\n",
        "\n",
        "# Cut out the open and closing parts\n",
        "pages = pages[1:393]\n",
        "\n",
        "# Combine the pages, and replace the tabs with spaces\n",
        "text = \"\"\n",
        "\n",
        "for page in pages:\n",
        "    text += page.page_content\n",
        "\n",
        "text = text.replace('\\t', ' ')"
      ]
    },
    {
      "cell_type": "code",
      "source": [
        "num_tokens = llm.get_num_tokens(text)\n",
        "\n",
        "print (f\"This book has {num_tokens} tokens in it\")"
      ],
      "metadata": {
        "colab": {
          "base_uri": "https://localhost:8080/"
        },
        "id": "DASqFnTeknlY",
        "outputId": "43e7961e-f213-40b9-829f-0d8f19913a4d"
      },
      "execution_count": null,
      "outputs": [
        {
          "output_type": "stream",
          "name": "stdout",
          "text": [
            "This book has 208142 tokens in it\n"
          ]
        }
      ]
    },
    {
      "cell_type": "code",
      "source": [
        "text_splitter = RecursiveCharacterTextSplitter(separators=[\"\\n\\n\", \"\\n\", \"\\t\"], chunk_size=15000, chunk_overlap=3000)\n",
        "docs = text_splitter.create_documents([text])"
      ],
      "metadata": {
        "id": "NTrQSXAOmJ9_"
      },
      "execution_count": null,
      "outputs": []
    },
    {
      "cell_type": "code",
      "source": [
        "num_documents = len(docs)\n",
        "print (f\"Now our book is split up into {num_documents} documents\")"
      ],
      "metadata": {
        "colab": {
          "base_uri": "https://localhost:8080/"
        },
        "id": "sqdbvtRgmS5J",
        "outputId": "b34b0a68-cf0a-4a51-9023-cf8987ff50cc"
      },
      "execution_count": null,
      "outputs": [
        {
          "output_type": "stream",
          "name": "stdout",
          "text": [
            "Now our book is split up into 67 documents\n"
          ]
        }
      ]
    },
    {
      "cell_type": "code",
      "source": [
        "embeddings = OpenAIEmbeddings(openai_api_key='***********************')\n",
        "vectors = embeddings.embed_documents([x.page_content for x in docs])"
      ],
      "metadata": {
        "id": "JvWxYZA5mT3S"
      },
      "execution_count": null,
      "outputs": []
    },
    {
      "cell_type": "code",
      "source": [
        "num_clusters = 17\n",
        "kmeans = KMeans(n_clusters=num_clusters, random_state=42).fit(vectors)"
      ],
      "metadata": {
        "id": "vsSdD56BmXWh"
      },
      "execution_count": null,
      "outputs": []
    },
    {
      "cell_type": "code",
      "source": [
        "kmeans.labels_"
      ],
      "metadata": {
        "colab": {
          "base_uri": "https://localhost:8080/"
        },
        "id": "XEk0mO0NBzhu",
        "outputId": "7376f55b-7c59-43bc-d32b-6e8c9a554650"
      },
      "execution_count": null,
      "outputs": [
        {
          "output_type": "execute_result",
          "data": {
            "text/plain": [
              "array([ 5, 16,  4, 14, 16, 16, 16, 11, 11,  4,  1,  5,  5,  5,  5,  1,  5,\n",
              "        9,  9,  9,  7,  9,  1,  1,  8,  3,  3,  3,  3,  0,  0,  0,  0,  0,\n",
              "        0,  3,  3,  1,  4,  1,  3,  5,  4,  4,  4,  4,  4,  8, 12, 13, 13,\n",
              "        5,  8,  8, 10, 10,  8,  8,  2,  2,  6,  6,  6, 15, 15,  6,  6],\n",
              "      dtype=int32)"
            ]
          },
          "metadata": {},
          "execution_count": 163
        }
      ]
    },
    {
      "cell_type": "code",
      "source": [
        "# Find the closest embeddings to the centroids\n",
        "\n",
        "# Create an empty list that will hold your closest points\n",
        "closest_indices = []\n",
        "\n",
        "# Loop through the number of clusters you have\n",
        "for i in range(num_clusters):\n",
        "\n",
        "    # Get the list of distances from that particular cluster center\n",
        "    distances = np.linalg.norm(vectors - kmeans.cluster_centers_[i], axis=1)\n",
        "\n",
        "    # Find the list position of the closest one (using argmin to find the smallest distance)\n",
        "    closest_index = np.argmin(distances)\n",
        "\n",
        "    # Append that position to your closest indices list\n",
        "    closest_indices.append(closest_index)"
      ],
      "metadata": {
        "id": "-O22wDyDFZdy"
      },
      "execution_count": null,
      "outputs": []
    },
    {
      "cell_type": "code",
      "source": [
        "selected_indices = sorted(closest_indices)\n",
        "selected_indices"
      ],
      "metadata": {
        "colab": {
          "base_uri": "https://localhost:8080/"
        },
        "id": "CDpMjKWAFcWt",
        "outputId": "efadba12-3855-4ac3-8970-095ef3afac71"
      },
      "execution_count": null,
      "outputs": [
        {
          "output_type": "execute_result",
          "data": {
            "text/plain": [
              "[3, 5, 7, 11, 18, 20, 22, 27, 31, 44, 48, 50, 54, 56, 58, 61, 63]"
            ]
          },
          "metadata": {},
          "execution_count": 165
        }
      ]
    },
    {
      "cell_type": "code",
      "source": [
        "llm3 = ChatOpenAI(temperature=0,\n",
        "                 openai_api_key='***************************',\n",
        "                 max_tokens=2000,\n",
        "                 model='gpt-3.5-turbo'\n",
        "                )"
      ],
      "metadata": {
        "id": "_LM6TuNCFc0Q"
      },
      "execution_count": null,
      "outputs": []
    },
    {
      "cell_type": "code",
      "source": [
        "map_prompt = \"\"\"\n",
        "You will be given a single passage of a book. This section will be enclosed in triple backticks (```)\n",
        "Your goal is to give a summary of this section so that a reader will have a full understanding of what happened.\n",
        "Your response should be at least three paragraphs and fully encompass what was said in the passage.\n",
        "\n",
        "```{text}```\n",
        "FULL SUMMARY:\n",
        "\"\"\"\n",
        "map_prompt_template = PromptTemplate(template=map_prompt, input_variables=[\"text\"])"
      ],
      "metadata": {
        "id": "fUpCyD8oFewL"
      },
      "execution_count": null,
      "outputs": []
    },
    {
      "cell_type": "code",
      "source": [
        "map_chain = load_summarize_chain(llm=llm3,\n",
        "                             chain_type=\"stuff\",\n",
        "                             prompt=map_prompt_template)"
      ],
      "metadata": {
        "id": "cXr-h3QpFjpq"
      },
      "execution_count": null,
      "outputs": []
    },
    {
      "cell_type": "code",
      "source": [
        "selected_docs = [docs[doc] for doc in selected_indices]"
      ],
      "metadata": {
        "id": "osSIGt0tIwlB"
      },
      "execution_count": null,
      "outputs": []
    },
    {
      "cell_type": "code",
      "source": [
        "\n",
        "# Make an empty list to hold your summaries\n",
        "summary_list = []\n",
        "\n",
        "# Loop through a range of the lenght of your selected docs\n",
        "for i, doc in enumerate(selected_docs):\n",
        "\n",
        "    # Go get a summary of the chunk\n",
        "    chunk_summary = map_chain.run([doc])\n",
        "\n",
        "    # Append that summary to your list\n",
        "    summary_list.append(chunk_summary)\n",
        "\n",
        "    print (f\"Summary #{i} (chunk #{selected_indices[i]}) - Preview: {chunk_summary[:250]} \\n\")"
      ],
      "metadata": {
        "colab": {
          "base_uri": "https://localhost:8080/"
        },
        "id": "ax4aHcAWFlVX",
        "outputId": "29d50c5c-2ea6-461f-f97c-682addd311a4"
      },
      "execution_count": null,
      "outputs": [
        {
          "output_type": "stream",
          "name": "stdout",
          "text": [
            "Summary #0 (chunk #3) - Preview: The passage describes the protagonist's hometown of Bearington, a factory town that has been losing major employers over the years. The protagonist reflects on the decline of the town, with old brick buildings, vacant storefronts, and industrial plan \n",
            "\n",
            "Summary #1 (chunk #5) - Preview: In this passage, Alex Rogo reflects on a series of events that have unfolded in his life, starting with a wild night out with a colleague, Bill, and ending with a shocking revelation at work. Peach, a key figure in Alex's career, informs him that the \n",
            "\n",
            "Summary #2 (chunk #7) - Preview: In this passage, the protagonist, Alex, attends a meeting at his workplace where he begins to question the purpose and goals of the company. Feeling disillusioned by the lack of clarity and understanding among his colleagues, Alex abruptly leaves the \n",
            "\n",
            "Summary #3 (chunk #11) - Preview: In this passage, Alex visits his mother's house in search of his old address book. Despite his mother's attempts to help, they are unable to find it in the attic or basement. Eventually, Alex finds the address book in his old room, leading him to cal \n",
            "\n",
            "Summary #4 (chunk #18) - Preview: In this passage, the protagonist, Mr. Rogo, is leading a group of boys on a hike. He notices that the line of boys is spreading out, with gaps forming between them despite all of them walking at a similar pace. Mr. Rogo realizes that the length of th \n",
            "\n",
            "Summary #5 (chunk #20) - Preview: In this passage from \"The Goal: A Process of Ongoing Improvement\" by E.M. Goldratt, the main character, Mr. Rogo, is participating in a game with his colleagues that simulates a production process. Despite their efforts to balance the system, they fa \n",
            "\n",
            "Summary #6 (chunk #22) - Preview: In this passage, the protagonist, Alex, is faced with the sudden disappearance of his wife, Julie. He contacts her parents to inquire about her whereabouts, but they are unaware of her situation. Concerned, Alex also contacts the police, but they are \n",
            "\n",
            "Summary #7 (chunk #27) - Preview: In this passage, Jonah explains to Bob and his team the importance of managing bottlenecks in their plant. He emphasizes that on a bottleneck machine, every hour lost is crucial as it directly impacts the plant's overall throughput. Jonah points out  \n",
            "\n",
            "Summary #8 (chunk #31) - Preview: In this passage, the protagonist, Alex Rogo, and his team are implementing a new system in their plant to address bottlenecks and improve productivity. They hold meetings to introduce the new system, which involves prioritizing work based on tags - r \n",
            "\n",
            "Summary #9 (chunk #44) - Preview: In this passage, Al is preparing for a meeting with UniWare where the future of his plant will be decided. He spends time with his wife, Julie, reflecting on their marriage and realizing they need to communicate better. They decide to work on their r \n",
            "\n",
            "Summary #10 (chunk #48) - Preview: In this passage, a meeting is held to discuss the restructuring of roles within the plant. Bob is suggested to take over as plant manager, with Stacey potentially taking his place as production manager. Stacey expresses her desire for the production  \n",
            "\n",
            "Summary #11 (chunk #50) - Preview: In this passage, the characters discuss the history of the periodic table of elements and its significance. They talk about how chemists in the past struggled to organize the elements until Mendeleev introduced the concept of atomic weight as a basis \n",
            "\n",
            "Summary #12 (chunk #54) - Preview: In this passage, the main characters are faced with a challenging business decision regarding a deal with a French customer named Djangler. Despite initial reluctance due to the low prices offered by Djangler, they eventually decide to accept the dea \n",
            "\n",
            "Summary #13 (chunk #56) - Preview: In this passage from \"The Goal: A Process of Ongoing Improvement\" by E.M. Goldratt, the characters are discussing the issue of bottlenecks in their production process. Ralph introduces the concept of how Murphy hitting anywhere before the bottleneck  \n",
            "\n",
            "Summary #14 (chunk #58) - Preview: In this passage, Alex and Lou discuss the concept of constraints within their plant and how they were able to improve throughput without buying more capacity. They realize that the real constraints were not the machines but the policies in place. The \n",
            "\n",
            "Summary #15 (chunk #61) - Preview: In this passage, the focus is on the implementation of the Theory of Constraints (TOC) within a manufacturing company. The company struggled with decision-making processes that required lengthy discussions and compromises among 12 people. However, af \n",
            "\n",
            "Summary #16 (chunk #63) - Preview: In this passage, the narrator recounts his experience of being introduced to the Theory of Constraints by Eli Goldratt. Initially skeptical, he was convinced of its effectiveness after a private session with Goldratt. Applying the theory outside the  \n",
            "\n"
          ]
        }
      ]
    },
    {
      "cell_type": "code",
      "source": [
        "summary_list"
      ],
      "metadata": {
        "colab": {
          "base_uri": "https://localhost:8080/"
        },
        "id": "KQMW5FoNnQm1",
        "outputId": "9327bdaf-da4a-4e01-caad-e421278d045d"
      },
      "execution_count": null,
      "outputs": [
        {
          "output_type": "execute_result",
          "data": {
            "text/plain": [
              "[\"The passage describes the protagonist's hometown of Bearington, a factory town that has been losing major employers over the years. The protagonist reflects on the decline of the town, with old brick buildings, vacant storefronts, and industrial plants closing down. The protagonist manages a manufacturing plant in Bearington and faces challenges with efficiency and meeting orders. Despite shipping a late order with a lot of effort, the protagonist realizes that the plant is on the verge of closure due to poor performance and pressure from corporate management.\\n\\nThe protagonist and his colleague, Donovan, celebrate shipping the order but acknowledge the high cost and inefficiencies of their actions. They discuss the challenges of running the plant and the pressure from corporate to improve performance. The protagonist worries about the future of the plant and the livelihood of its employees. He reflects on the company's strategic plan, which seems to be failing, and questions why they can't compete with other companies in the market.\\n\\nAs the protagonist contemplates the situation in his office, he realizes that something fundamental is wrong with the plant's operations. Despite having technology, good people, and resources, they struggle to produce quality products on time and at a competitive cost. The protagonist acknowledges the need for change and improvement in order to save the plant from closure and secure the jobs of its employees. The passage highlights the challenges of managing a struggling manufacturing plant in a declining industrial town and the pressure to turn things around before it's too late.\",\n",
              " \"In this passage, Alex Rogo reflects on a series of events that have unfolded in his life, starting with a wild night out with a colleague, Bill, and ending with a shocking revelation at work. Peach, a key figure in Alex's career, informs him that their division is at risk of being sold if performance does not improve. This news sends Alex into a panic as he realizes that his job may be on the line as well. As he attends a meeting with Peach and other colleagues, he struggles to focus on the discussion about productivity and cost-cutting measures, feeling overwhelmed by the uncertainty of his future.\\n\\nThe narrative then shifts to a chance encounter with Jonah, a former acquaintance who challenges Alex's beliefs about productivity and efficiency in his plant. Jonah questions the true impact of implementing robots on productivity, pointing out that increased efficiencies do not necessarily translate to improved outcomes if inventories are high and shipments are delayed. This conversation leaves Alex feeling unsettled and prompts him to reevaluate his approach to managing the plant. Jonah's insights shed light on the flaws in Alex's current strategies and highlight the need for a more holistic and effective approach to improving performance.\\n\\nOverall, this passage delves into the complexities of corporate dynamics and the challenges faced by individuals like Alex in navigating uncertain and high-pressure environments. It underscores the importance of rethinking traditional notions of productivity and efficiency, emphasizing the need for a more comprehensive and strategic approach to achieving sustainable success in business. As Alex grapples with the looming threat of his division being sold and confronts the limitations of his current practices, he is forced to confront uncomfortable truths and consider new perspectives on how to drive meaningful change within his organization.\",\n",
              " \"In this passage, the protagonist, Alex, attends a meeting at his workplace where he begins to question the purpose and goals of the company. Feeling disillusioned by the lack of clarity and understanding among his colleagues, Alex abruptly leaves the meeting and embarks on a journey of self-reflection. As he drives around aimlessly, he contemplates the various aspects of the manufacturing organization he works for, such as cost-effective purchasing, job creation, product quality, efficiency, and technology. Despite considering these factors as potential goals, Alex ultimately realizes that the primary goal of a manufacturing organization is to make money.\\n\\nThroughout his introspection, Alex grapples with the idea that while aspects like quality, efficiency, and technology are important, they are not the ultimate goal of the organization. He reflects on the history of the company and the purpose behind its establishment, leading him to the conclusion that profitability is the driving force behind its existence. By observing the warehouses filled with unsold merchandise and spare parts, Alex understands that the goal of sales and ultimately making money is what sustains the business and ensures its longevity.\\n\\nAs Alex comes to the realization that the primary goal of the manufacturing organization is to generate profit, he acknowledges the significance of financial sustainability in the company's operations. This newfound understanding prompts him to reevaluate his approach to managing the plant and finding ways to reduce costs and increase profitability. By recognizing the fundamental goal of making money, Alex gains a clearer perspective on the purpose of the organization and the actions needed to drive its success in the competitive business landscape.\",\n",
              " \"In this passage, Alex visits his mother's house in search of his old address book. Despite his mother's attempts to help, they are unable to find it in the attic or basement. Eventually, Alex finds the address book in his old room, leading him to call Jonah, a friend from university, to discuss the goal of a manufacturing organization. Jonah introduces Alex to new measurements - throughput, inventory, and operational expense - that help express the goal of making money and guide operational rules for running the plant. Through their conversation, Alex gains a better understanding of how to evaluate productivity and relate these measurements to his plant.\\n\\nAs Alex delves deeper into the concept of the goal and these new measurements, he realizes the importance of defining them precisely to avoid confusion. Jonah emphasizes the need to consider these measurements as a group and how they cover everything managed in the plant. Alex learns that expressing the goal in terms of these measurements is crucial for evaluating productivity and developing operational rules. Despite Jonah's brief explanation, Alex begins to grasp the significance of looking at the organization as a whole and avoiding local optimums.\\n\\nAfter his enlightening conversation with Jonah, Alex returns to work and deals with various issues at the plant, including testing machine failures, late shipments, and a visit from the chairman of the board. As he navigates these challenges, Alex reflects on the new measurements and their implications for improving productivity in the plant. The passage ends with Alex contemplating the upcoming visit from the chairman and the impact it may have on the plant's future.\",\n",
              " \"In this passage, the protagonist, Mr. Rogo, is leading a group of boys on a hike. He notices that the line of boys is spreading out, with gaps forming between them despite all of them walking at a similar pace. Mr. Rogo realizes that the length of the line is increasing because of the fluctuations in each boy's speed. He observes that the boys' speeds are dependent on those in front of them, leading to the line spreading out due to accumulated slowness.\\n\\nAs Mr. Rogo contemplates the situation, he draws parallels between the hike and a manufacturing system. He sees the boys as operations in a production process, with Ron setting the pace as the first operation. Through this analogy, he understands the concepts of throughput, inventory, and operational expense. He ponders the idea of balancing capacity with demand to eliminate excess inventory and increase throughput, similar to achieving a balanced plant in manufacturing.\\n\\nMr. Rogo's observations lead him to consider ways to control and optimize the boys' hiking speed, such as adjusting their capacity or creating a more controllable model. He gets an idea from a boy rolling dice and decides to use the dice to simulate statistical fluctuations. This sparks his curiosity about finding a more practical and controlled way to understand and manage the fluctuations in both the hike and his manufacturing plant.\",\n",
              " 'In this passage from \"The Goal: A Process of Ongoing Improvement\" by E.M. Goldratt, the main character, Mr. Rogo, is participating in a game with his colleagues that simulates a production process. Despite their efforts to balance the system, they face challenges with throughput decreasing, inventory increasing, and operational expenses potentially rising. This leads Mr. Rogo to reflect on the implications of these issues in a real plant setting, where late orders and decreased credibility with customers would be major concerns.\\n\\nAs Mr. Rogo continues on a hike with a troop of Boy Scouts, he observes how the troop\\'s progress is hindered by the slowest member, Herbie. This situation prompts Mr. Rogo to rearrange the troop\\'s order so that Herbie leads, emphasizing the importance of teamwork and ensuring that everyone reaches their destination together. This adjustment results in improved cohesion and efficiency within the troop, highlighting the significance of optimizing the flow of work in a system.\\n\\nThrough the experiences on the hike, Mr. Rogo learns valuable lessons about system dynamics and the impact of bottlenecks on overall throughput. By addressing the issue of the slowest member in the troop, he demonstrates the importance of identifying and managing constraints in a system to achieve optimal performance. This passage serves as a metaphor for the challenges faced in a production environment and the necessity of addressing inefficiencies to improve overall productivity and success.',\n",
              " \"In this passage, the protagonist, Alex, is faced with the sudden disappearance of his wife, Julie. He contacts her parents to inquire about her whereabouts, but they are unaware of her situation. Concerned, Alex also contacts the police, but they are unable to assist without evidence of a crime. Meanwhile, he struggles to manage his children's morning chaos, with his son attempting to make breakfast and his daughter feigning illness to avoid going to school. Additionally, Alex faces a work crisis when he receives an urgent message from Hilton Smyth, demanding the immediate delivery of sub-assemblies. Despite initial skepticism from his colleagues, Alex devises a plan to meet Smyth's demands by coordinating with the production team.\\n\\nAs Alex navigates the challenges of his personal and professional life, he finds himself in a tense situation with Hilton Smyth, who threatens to escalate the issue to Bill Peach if the sub-assemblies are not delivered on time. Despite doubts from his colleagues about the validity of his insights gained from a hiking trip, Alex remains determined to implement changes in the plant's operations to improve productivity. With a looming deadline and pressure from Smyth, Alex devises a plan involving Pete's department and a robot to meet the production target by the end of the day. He emphasizes the importance of tracking real-time progress to ensure the success of the plan.\\n\\nThrough a series of interactions with his colleagues and the production team, Alex demonstrates his commitment to implementing changes based on the principles he learned from Jonah. Despite initial skepticism and challenges, Alex remains focused on achieving the goal of delivering the sub-assemblies to Smyth's plant by the end of the day. By involving the team in monitoring progress and emphasizing the importance of meeting the target, Alex showcases his leadership skills and determination to drive improvements in the plant's operations.\",\n",
              " \"In this passage, Jonah explains to Bob and his team the importance of managing bottlenecks in their plant. He emphasizes that on a bottleneck machine, every hour lost is crucial as it directly impacts the plant's overall throughput. Jonah points out that taking breaks or working on unnecessary parts on a bottleneck machine can be extremely costly. He suggests reallocating work to non-bottleneck machines and ensuring that only necessary parts are processed to maximize the bottleneck's capacity.\\n\\nJonah also discusses the significance of quality control at bottlenecks. He advises placing quality control measures before bottlenecks to ensure that only good parts reach these critical machines. By preventing defective parts from reaching bottlenecks, time and throughput are not wasted. Jonah also highlights the financial implications of bottlenecks, showing how idle time on a bottleneck can cost the plant thousands of dollars.\\n\\nFurthermore, Jonah challenges the traditional cost accounting methods used by the team, emphasizing that the true cost of a bottleneck is the total expense of the system divided by the number of hours the bottleneck produces. By understanding the real cost of bottlenecks, the team can optimize their use and increase overall plant efficiency. Jonah's insights prompt Bob and his team to rethink their approach to managing bottlenecks and quality control, ultimately aiming to improve throughput and profitability in the plant.\",\n",
              " \"In this passage, the protagonist, Alex Rogo, and his team are implementing a new system in their plant to address bottlenecks and improve productivity. They hold meetings to introduce the new system, which involves prioritizing work based on tags - red tags for parts needing immediate attention at bottlenecks and green tags for other parts. The system aims to streamline production and ensure timely processing of critical orders. As they start seeing progress with the new system, they also identify areas for further improvement, such as offloading bottlenecks during breaks and enhancing quality control procedures.\\n\\nDespite the initial success of the new system, Alex is not satisfied with the progress and pushes for further acceleration. He emphasizes the importance of meeting customer orders on time and challenges his team to come up with recommendations for improvement. Additionally, they discuss ways to differentiate post-bottleneck parts for special treatment to ensure quality and efficient processing. Alex encourages his team to continue working on these initiatives and keep him informed of their progress.\\n\\nTowards the end of the passage, Bob Donovan, a member of Alex's team, surprises him with an old machine, the Zmegma, as a potential solution to increase capacity in the plant. Despite its age, Bob believes that combining the Zmegma with other machines can perform tasks similar to the NCX-10, offering a quick way to boost production. Alex is intrigued by the idea and questions the quality and effectiveness of using such old equipment. However, he acknowledges the potential for increased capacity and is open to exploring this unconventional solution to further improve plant operations.\",\n",
              " \"In this passage, Al is preparing for a meeting with UniWare where the future of his plant will be decided. He spends time with his wife, Julie, reflecting on their marriage and realizing they need to communicate better. They decide to work on their relationship and consider getting married again. At the meeting, Al presents his case to Hilton Smyth and Neil Cravitz, explaining how his plant is making money despite increased costs. However, Hilton dismisses Al's arguments and insists on submitting a negative report to Bill Peach. Frustrated, Al decides to confront Bill and explain his side of the story.\\n\\nAl expresses his concerns to Bill, detailing the flaws in UniWare's approach to evaluating plant performance. Despite Al's efforts to explain his plant's success, Bill seems skeptical and questions Hilton's report. Al's determination to defend his plant and his innovative ideas for improving operations are evident in his conversation with Bill. The passage ends with Al seeking to clarify his position and make sure his perspective is heard before any final decisions are made.\\n\\nOverall, this passage highlights Al's dedication to his work and his willingness to fight for what he believes in. It also showcases the importance of communication in relationships, as Al and Julie work towards rebuilding their marriage. The tension and conflict at the meeting with UniWare add a layer of suspense to the story, leaving the reader curious about the outcome of Al's efforts to save his plant and his marriage.\",\n",
              " \"In this passage, a meeting is held to discuss the restructuring of roles within the plant. Bob is suggested to take over as plant manager, with Stacey potentially taking his place as production manager. Stacey expresses her desire for the production manager role, explaining her innovative approach to managing buffers and capacity constraint resources. She emphasizes the importance of focusing on local improvements to prevent bottlenecks and maintain smooth operations. Ralph also shares his newfound appreciation for his role and his desire to contribute to the team's success.\\n\\nAs the discussion progresses, the focus shifts to the upcoming division management role that the protagonist will assume. The team provides suggestions on the initial steps to take, such as fact-finding, meeting with staff, and understanding local politics. The protagonist uses a whiteboard to visually represent the complexity of the situation, highlighting the need for thorough investigation and analysis before making decisions. The team is left speechless, realizing the magnitude of the task at hand.\\n\\nThe protagonist's wife, Julie, offers valuable advice to spend time with the team before transitioning to the division role, allowing them to work together on defining management techniques. The protagonist acknowledges the importance of learning how to manage effectively and seeks input from the team to navigate the challenges ahead. The passage showcases the collaborative effort and strategic thinking required to address complex operational issues and prepare for leadership responsibilities.\",\n",
              " \"In this passage, the characters discuss the history of the periodic table of elements and its significance. They talk about how chemists in the past struggled to organize the elements until Mendeleev introduced the concept of atomic weight as a basis for classification. Despite initial skepticism, Mendeleev's table proved to be accurate in predicting the properties of missing elements, leading to its widespread acceptance and admiration in the scientific community.\\n\\nThe characters also reflect on the difference between arbitrary and intrinsic order, with Mendeleev's classification representing the latter. They discuss the importance of revealing intrinsic order in management and how it can be a powerful tool. The conversation shifts to the idea of defining a clear goal for the division and aligning actions towards achieving that goal, highlighting the need for a systematic approach rather than relying on individual efforts.\\n\\nAs they explore the concept of goal-setting and alignment, the characters grapple with the practical implications of implementing such strategies in their division. Despite initial resistance and skepticism, they begin to see the value in clarifying objectives and working towards a common goal. The passage ends with a sense of uncertainty and the characters contemplating the challenges and potential benefits of adopting a more structured and goal-oriented approach to management.\",\n",
              " 'In this passage, the main characters are faced with a challenging business decision regarding a deal with a French customer named Djangler. Despite initial reluctance due to the low prices offered by Djangler, they eventually decide to accept the deal based on the spare capacity they have and the potential profit margin. They strategize on how to make the deal profitable and competitive in the European market by offering quick delivery times as a unique selling point.\\n\\nThe protagonist, Alex, reflects on the management techniques he needs to master to drive the division forward. He draws parallels between the scientific method used by physicists and the approach needed in business management. By focusing on cause-and-effect relationships and logical derivations, he begins to see a new perspective on solving business challenges and creating order out of chaos. This realization leads him to consider implementing similar methods in his management approach.\\n\\nAs Alex delves deeper into understanding these concepts, he discusses them with his partner, Julie, who draws parallels between the scientific method and Socratic dialogues. They both recognize the power of the IF...THEN relationship in connecting different aspects of a problem and deriving logical solutions. This newfound understanding sparks a curiosity in Alex to explore further and apply these principles to his management practices, potentially revolutionizing the way he approaches business challenges.',\n",
              " 'In this passage from \"The Goal: A Process of Ongoing Improvement\" by E.M. Goldratt, the characters are discussing the issue of bottlenecks in their production process. Ralph introduces the concept of how Murphy hitting anywhere before the bottleneck can disrupt the flow of tasks, leading to potential starvation of the bottleneck. This leads to a discussion about the need for inventory in front of bottlenecks to ensure uninterrupted work. The characters debate the balance between inventory and spare capacity, realizing that new orders have shifted this balance and caused a decrease in spare capacity on non-bottlenecks.\\n\\nAs the characters delve deeper into the issue, they realize that increasing inventory in front of bottlenecks and non-bottlenecks is necessary to maintain production flow. Bob takes charge and makes decisions to address the immediate issues, such as adjusting material release times and rebuilding inventory. However, the protagonist, Alex, expresses concern about the long-term impact of these decisions on throughput, operating expenses, and inventory levels. He questions the effectiveness of small improvements and emphasizes the need for strategic decision-making to address the root causes of their production problems.\\n\\nThe passage highlights the importance of understanding the interconnectedness of various factors in a production process, such as inventory levels, bottlenecks, and spare capacity. It also emphasizes the need for proactive and strategic decision-making to address underlying issues rather than just focusing on immediate fixes. The characters\\' discussions and decisions reflect the challenges of balancing short-term needs with long-term goals in a complex production environment.',\n",
              " \"In this passage, Alex and Lou discuss the concept of constraints within their plant and how they were able to improve throughput without buying more capacity. They realize that the real constraints were not the machines but the policies in place. They discuss the importance of identifying the system's constraint and how to go about zooming in on the core problem responsible for undesirable effects. They also touch on the need for techniques to enable them to carry out the necessary steps to address these constraints and policies.\\n\\nAs they delve deeper into the steps needed to exploit and elevate the system's constraints, they realize the importance of identifying what to change and how to cause the change. They discuss the challenges of correcting erroneous policies and the need for breakthrough ideas and thinking processes to guide them in making effective changes. They also acknowledge the importance of preventing problems by systematically examining solutions before implementation.\\n\\nThe passage concludes with Alex and Lou reflecting on the fundamental abilities required of a manager, such as the ability to answer key questions about what to change, what to change to, and how to cause the change. They discuss the significance of honing in on core problems, constructing solutions that solve negative effects, and causing major changes smoothly. They emphasize the need for managers to develop these thinking processes to effectively carry out their roles and responsibilities.\",\n",
              " 'In this passage, the focus is on the implementation of the Theory of Constraints (TOC) within a manufacturing company. The company struggled with decision-making processes that required lengthy discussions and compromises among 12 people. However, after reading \"The Goal,\" everyone understood the importance of moving away from localized thinking and focusing on what is most effective for the overall constraint, which in this case was the press room. By shifting their mindset and concentrating on maximizing the press room\\'s capacity, they were able to improve their on-time delivery and overall throughput.\\n\\nThe company\\'s finance guy, CM, played a crucial role in breaking away from traditional cost-driven accounting methods. By developing new measurement tools based on TOC principles, such as TCP and CRH, they were able to make more informed decisions about product profitability and resource allocation. This shift in focus allowed them to break away from the cost method of sales and estimating, leading to increased profitability even in a declining market.\\n\\nThrough an interview with Stewart Witt, a consultant who implemented TOC in a manufacturing company, the effectiveness of TOC in identifying and exploiting constraints is highlighted. By addressing and resolving constraints in various areas of the company, such as production, engineering, and the market, significant improvements were achieved. The continuous process of identifying and addressing constraints within the organization is emphasized, showing that TOC can lead to ongoing improvement and growth.',\n",
              " \"In this passage, the narrator recounts his experience of being introduced to the Theory of Constraints by Eli Goldratt. Initially skeptical, he was convinced of its effectiveness after a private session with Goldratt. Applying the theory outside the company's walls, he discovered a production bottleneck in the market and implemented innovative solutions in his office supply business. By offering cabinets with office supplies on consignment terms, he reduced internal hassle for customers and increased efficiency, leading to higher customer satisfaction and increased margins.\\n\\nThe narrator's company faced fierce competition focused on price, leading to a shift in their business model. By focusing on customer needs and implementing a unique consignment system, they were able to differentiate themselves in the market and provide added value to customers. This approach not only increased customer satisfaction but also led to higher margins and improved efficiency in managing inventory and supply chain logistics.\\n\\nThrough the application of Theory of Constraints, the narrator was able to identify and address constraints within the company, leading to new growth opportunities. By continuously analyzing and improving their processes, they were able to stay ahead of competitors and maintain a competitive edge in the market. The narrator's experience highlights the importance of thinking outside the box, focusing on customer needs, and continuously seeking ways to improve and innovate in business operations.\"]"
            ]
          },
          "metadata": {},
          "execution_count": 171
        }
      ]
    },
    {
      "cell_type": "code",
      "source": [
        "summaries = \"\\n\".join(summary_list)\n",
        "\n",
        "# Convert it back to a document\n",
        "summaries = Document(page_content=summaries)\n",
        "\n",
        "print (f\"Your total summary has {llm.get_num_tokens(summaries.page_content)} tokens\")"
      ],
      "metadata": {
        "colab": {
          "base_uri": "https://localhost:8080/"
        },
        "id": "SHKpFM0ZFnYf",
        "outputId": "aa499cb7-c49a-49db-d43d-e00808f506a5"
      },
      "execution_count": null,
      "outputs": [
        {
          "output_type": "stream",
          "name": "stdout",
          "text": [
            "Your total summary has 7293 tokens\n"
          ]
        }
      ]
    },
    {
      "cell_type": "code",
      "source": [
        "llm4 = ChatOpenAI(temperature=0,\n",
        "                 openai_api_key='***************************',\n",
        "                 max_tokens=4096 ,\n",
        "                 model='gpt-4-turbo-preview',\n",
        "                 request_timeout=120\n",
        "                )"
      ],
      "metadata": {
        "id": "bP2Xd3dfFowh"
      },
      "execution_count": null,
      "outputs": []
    },
    {
      "cell_type": "code",
      "source": [
        "combine_prompt = \"\"\"\n",
        "You will be given a series of summaries from a book. The summaries will be enclosed in triple backticks (```)\n",
        "Your goal is to give a verbose summary of what happened in the story.\n",
        "The reader should be able to grasp what happened in the book.\n",
        "Please write 2 sentences per chunk\n",
        "\n",
        "```{text}```\n",
        "VERBOSE SUMMARY:\n",
        "\"\"\"\n",
        "combine_prompt_template = PromptTemplate(template=combine_prompt, input_variables=[\"text\"])"
      ],
      "metadata": {
        "id": "RbGu6iH6Fq06"
      },
      "execution_count": null,
      "outputs": []
    },
    {
      "cell_type": "code",
      "source": [
        "reduce_chain = load_summarize_chain(llm=llm4,\n",
        "                             chain_type=\"stuff\",\n",
        "                             prompt=combine_prompt_template,\n",
        "#                              verbose=True # Set this to true if you want to see the inner workings\n",
        "                                   )"
      ],
      "metadata": {
        "id": "Qmedc6DWFrSD"
      },
      "execution_count": null,
      "outputs": []
    },
    {
      "cell_type": "code",
      "source": [
        "output = reduce_chain.run([summaries])"
      ],
      "metadata": {
        "id": "i7tuKcJqFtUe"
      },
      "execution_count": null,
      "outputs": []
    },
    {
      "cell_type": "code",
      "source": [
        "print (output)"
      ],
      "metadata": {
        "colab": {
          "base_uri": "https://localhost:8080/"
        },
        "id": "3aqoPLVFFuwI",
        "outputId": "f5c873d0-16ee-44ba-9fcd-4926d6f450b5"
      },
      "execution_count": null,
      "outputs": [
        {
          "output_type": "stream",
          "name": "stdout",
          "text": [
            "\"The Goal: A Process of Ongoing Improvement\" by E.M. Goldratt is a compelling narrative that follows the journey of Alex Rogo, a plant manager struggling to save his manufacturing plant and his marriage. The story begins with Alex arriving at work to find his parking space taken by his boss, Bill Peach, setting the stage for a series of challenges that highlight the power dynamics and urgent issues facing the plant, including a potential walkout, harassment claims, and missing parts for a critical customer order. Bill Peach's early arrival and demand for immediate action on the late order throw the plant into chaos, with Alex left to manage the fallout, including confrontations and productivity halts.\n",
            "\n",
            "As Alex navigates these professional challenges, he also faces personal turmoil with his wife, Julie, who expresses dissatisfaction with their life in Bearington and desires to leave. This tension in their marriage is juxtaposed with the crisis at the plant, where a key machine breaks down, threatening job security and adding to Alex's stress. The narrative delves into the complexities of work-life balance, the chaotic environment of the manufacturing plant, and the relationships between employees.\n",
            "\n",
            "The story progresses as Alex begins to question the true goals of the company, leading him to a realization that the overarching goal of a manufacturing organization is to make money. This epiphany comes after a meeting where he feels disconnected from discussions about productivity and targets, prompting him to reflect on various aspects of the organization. His journey of discovery involves attending a meeting where Jonah, a consultant, introduces him to the concepts of dependent events and statistical fluctuations, challenging Alex to think about their combined effect on plant operations.\n",
            "\n",
            "Alex's personal life is further explored as he attempts to balance his responsibilities at work with his family life, leading to a strained relationship with Julie. Despite promises to make more time for his family, Alex is consumed by the plant's problems. This tension culminates in a crisis when Julie leaves a note saying she needs to get away, adding to Alex's challenges as he also faces a critical customer demand at work.\n",
            "\n",
            "Throughout the narrative, Alex and his team implement new management concepts to address the plant's inefficiencies, including the introduction of robots and the identification of bottlenecks. These efforts lead to significant improvements in productivity and efficiency, but not without resistance and skepticism from his team. The story highlights the importance of continuous improvement, the impact of inventory and operational expenses on financial performance, and the need to align actions with the goal of maximizing profitability.\n",
            "\n",
            "Alex's journey is marked by personal growth and professional development as he learns to apply the Theory of Constraints (TOC) to both his work and personal life. He faces numerous challenges, including reconciling with Julie, addressing new bottlenecks in the plant, and defending his innovative approach to manufacturing against traditional methods. The narrative culminates in Alex's realization of the importance of questioning traditional practices, the impact of accounting distortions on financial performance, and the need for innovative thinking to drive continuous improvement.\n",
            "\n",
            "In the end, \"The Goal\" is a story of transformation, both for Alex Rogo and his manufacturing plant. Through the application of TOC principles, Alex is able to turn around the plant's fortunes, improve his relationship with Julie, and challenge established norms in manufacturing. The narrative not only provides insights into the complexities of managing a manufacturing plant but also delves into the personal struggles and triumphs of its protagonist, making it a compelling read for anyone interested in business management, continuous improvement, and personal development.\n"
          ]
        }
      ]
    }
  ]
}